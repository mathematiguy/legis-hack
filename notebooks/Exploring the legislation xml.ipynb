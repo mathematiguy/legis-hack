{
 "cells": [
  {
   "cell_type": "markdown",
   "metadata": {},
   "source": [
    "# Exploring the legislation xml"
   ]
  },
  {
   "cell_type": "markdown",
   "metadata": {},
   "source": [
    "Here I'll be pulling apart the xml files that we've managed to scrape. The idea is to look for interesting structures that would be worth rolling up into a dataset, or some worthwhile visualisations."
   ]
  },
  {
   "cell_type": "code",
   "execution_count": 63,
   "metadata": {},
   "outputs": [],
   "source": [
    "import os, re\n",
    "import random\n",
    "from bs4 import BeautifulSoup, element"
   ]
  },
  {
   "cell_type": "code",
   "execution_count": 9,
   "metadata": {},
   "outputs": [],
   "source": [
    "xml_filepaths = []\n",
    "for root, dirs, files in os.walk(\"../legislation/xml\"):\n",
    "    xml_filepaths += [os.path.join(root, f) for f in files if f.endswith(\".xml\")]"
   ]
  },
  {
   "cell_type": "code",
   "execution_count": 10,
   "metadata": {},
   "outputs": [
    {
     "data": {
      "text/plain": [
       "'../legislation/xml/subscribe/act/public/1998/0118/1.0/096be8ed8009d734.xml'"
      ]
     },
     "execution_count": 10,
     "metadata": {},
     "output_type": "execute_result"
    }
   ],
   "source": [
    "xml_filepaths[0]"
   ]
  },
  {
   "cell_type": "markdown",
   "metadata": {},
   "source": [
    "We parse the xml file using the `BeautifulSoup` library."
   ]
  },
  {
   "cell_type": "code",
   "execution_count": 175,
   "metadata": {},
   "outputs": [],
   "source": [
    "xml_file = random.choice(xml_filepaths)\n",
    "with open(xml_file) as f:\n",
    "    soup = BeautifulSoup(f.read(), \"lxml-xml\")"
   ]
  },
  {
   "cell_type": "code",
   "execution_count": 176,
   "metadata": {},
   "outputs": [
    {
     "data": {
      "text/plain": [
       "'Trade in Endangered Species Amendment Act 1999'"
      ]
     },
     "execution_count": 176,
     "metadata": {},
     "output_type": "execute_result"
    }
   ],
   "source": [
    "soup.find('title').contents[0]"
   ]
  },
  {
   "cell_type": "code",
   "execution_count": 177,
   "metadata": {},
   "outputs": [
    {
     "data": {
      "text/plain": [
       "<body id=\"DLM25209\" prov-type=\"section\" xml:lang=\"en-NZ\"><prov id=\"DLM25210\" irdnumbering=\"no\" skeleton=\"no\" toc=\"yes\" xml:lang=\"en-NZ\"><label auto.number=\"no\" denominator=\"yes\">1</label><heading xml:lang=\"en-NZ\">Short Title</heading><prov.body><subprov skeleton=\"no\" xml:lang=\"en-NZ\"><label auto.number=\"no\" denominator=\"no\"/><para xml:lang=\"en-NZ\"><text>This Act may be cited as the Trade in Endangered Species Amendment Act 1999, and is part of the <citation jurisdiction=\"nz\"><atidlm:link atidlm:branchLabel=\"_NOVERSION_\" atidlm:key=\"6609\" atidlm:name=\"Trade in Endangered Species Act 1989\" atidlm:state=\"UNCHANGED\" atidlm:xmlId=\"DLM453602\" xmlns:atidlm=\"http://www.arbortext.com/namespace/atidlm\"><atidlm:linkcontent>Trade in Endangered Species Act 1989</atidlm:linkcontent><atidlm:resourcepair atidlm:isIncludeOrRef=\"1\" atidlm:markupType=\"leg-title\" atidlm:seqNum=\"6397\" atidlm:sourceLocator=\"file:///C:/epicuser/Doctypes/NZAct/fragxyxz_DLM25205.xml\" atidlm:sourceName=\"DLM453602\" atidlm:sourceXmlId=\"DLM453602\" atidlm:state=\"UNCHANGED\" atidlm:targetKey=\"825631\" atidlm:targetLocator=\"file:///C:/epicuser/Doctypes/NZAct/fragxyxz_DLM145965.xml\" atidlm:targetName=\"Trade in Endangered Species Act 1989\" atidlm:targetXmlId=\"DLM145965\"><atidlm:metadata atidlm:locale=\"xx_XX\" atidlm:name=\"Name\" atidlm:state=\"UNCHANGED\" atidlm:value=\"prov\"/><atidlm:metadata atidlm:locale=\"xx_XX\" atidlm:name=\"Amend\" atidlm:state=\"UNCHANGED\" atidlm:value=\"false\"/><atidlm:metadata atidlm:locale=\"xx_XX\" atidlm:name=\"Element_Context\" atidlm:state=\"UNCHANGED\" atidlm:value=\"/act[1]/body[1]/prov[1]\"/><atidlm:metadata atidlm:locale=\"xx_XX\" atidlm:name=\"Element_Type\" atidlm:state=\"UNCHANGED\" atidlm:value=\"prov\"/><atidlm:metadata atidlm:locale=\"xx_XX\" atidlm:name=\"Heading\" atidlm:state=\"UNCHANGED\" atidlm:value=\"Short Title\"/><atidlm:metadata atidlm:locale=\"xx_XX\" atidlm:name=\"Label\" atidlm:state=\"UNCHANGED\" atidlm:value=\"1\"/><atidlm:metadata atidlm:locale=\"xx_XX\" atidlm:name=\"Legislation_Id\" atidlm:state=\"UNCHANGED\" atidlm:value=\"DLM25205\"/><atidlm:metadata atidlm:locale=\"xx_XX\" atidlm:name=\"Legislation_Number\" atidlm:state=\"UNCHANGED\" atidlm:value=\"50\"/><atidlm:metadata atidlm:locale=\"xx_XX\" atidlm:name=\"Legislation_Title\" atidlm:state=\"UNCHANGED\" atidlm:value=\"Trade in Endangered Species Amendment Act 1999\"/><atidlm:metadata atidlm:locale=\"xx_XX\" atidlm:name=\"Legislation_Year\" atidlm:state=\"UNCHANGED\" atidlm:value=\"1999\"/><atidlm:metadata atidlm:locale=\"xx_XX\" atidlm:name=\"Revision_Number\" atidlm:state=\"UNCHANGED\" atidlm:value=\"\"/></atidlm:resourcepair></atidlm:link></citation> (<quote.in>the principal Act</quote.in>).</text></para></subprov></prov.body></prov><prov id=\"DLM25211\" irdnumbering=\"no\" skeleton=\"no\" toc=\"yes\" xml:lang=\"en-NZ\"><label auto.number=\"no\" denominator=\"yes\">2</label><heading xml:lang=\"en-NZ\">Scientific authorities</heading><prov.body><subprov skeleton=\"no\" xml:lang=\"en-NZ\"><label auto.number=\"no\" denominator=\"no\"/><para xml:lang=\"en-NZ\"><text>This section substituted <citation jurisdiction=\"nz\">Section <atidlm:link atidlm:branchLabel=\"_NOVERSION_\" atidlm:key=\"6610\" atidlm:name=\"prov 7\" atidlm:state=\"UNCHANGED\" atidlm:xmlId=\"DLM453603\" xmlns:atidlm=\"http://www.arbortext.com/namespace/atidlm\"><atidlm:linkcontent>7(1)(c)</atidlm:linkcontent><atidlm:resourcepair atidlm:isIncludeOrRef=\"1\" atidlm:markupType=\"extref\" atidlm:seqNum=\"6398\" atidlm:sourceLocator=\"file:///C:/epicuser/Doctypes/NZAct/fragxyxz_DLM25205.xml\" atidlm:sourceName=\"DLM453603\" atidlm:sourceXmlId=\"DLM453603\" atidlm:state=\"UNCHANGED\" atidlm:targetKey=\"826202\" atidlm:targetLocator=\"file:///C:/epicuser/Doctypes/NZAct/fragxyxz_DLM146530.xml\" atidlm:targetName=\"prov 7\" atidlm:targetXmlId=\"DLM146532\"><atidlm:metadata atidlm:locale=\"xx_XX\" atidlm:name=\"Name\" atidlm:state=\"UNCHANGED\" atidlm:value=\"prov\"/><atidlm:metadata atidlm:locale=\"xx_XX\" atidlm:name=\"Amend\" atidlm:state=\"UNCHANGED\" atidlm:value=\"false\"/><atidlm:metadata atidlm:locale=\"xx_XX\" atidlm:name=\"Element_Context\" atidlm:state=\"UNCHANGED\" atidlm:value=\"/act[1]/body[1]/prov[2]\"/><atidlm:metadata atidlm:locale=\"xx_XX\" atidlm:name=\"Element_Type\" atidlm:state=\"UNCHANGED\" atidlm:value=\"prov\"/><atidlm:metadata atidlm:locale=\"xx_XX\" atidlm:name=\"Heading\" atidlm:state=\"UNCHANGED\" atidlm:value=\"Scientific authorities\"/><atidlm:metadata atidlm:locale=\"xx_XX\" atidlm:name=\"Label\" atidlm:state=\"UNCHANGED\" atidlm:value=\"2\"/><atidlm:metadata atidlm:locale=\"xx_XX\" atidlm:name=\"Legislation_Id\" atidlm:state=\"UNCHANGED\" atidlm:value=\"DLM25205\"/><atidlm:metadata atidlm:locale=\"xx_XX\" atidlm:name=\"Legislation_Number\" atidlm:state=\"UNCHANGED\" atidlm:value=\"50\"/><atidlm:metadata atidlm:locale=\"xx_XX\" atidlm:name=\"Legislation_Title\" atidlm:state=\"UNCHANGED\" atidlm:value=\"Trade in Endangered Species Amendment Act 1999\"/><atidlm:metadata atidlm:locale=\"xx_XX\" atidlm:name=\"Legislation_Year\" atidlm:state=\"UNCHANGED\" atidlm:value=\"1999\"/><atidlm:metadata atidlm:locale=\"xx_XX\" atidlm:name=\"Revision_Number\" atidlm:state=\"UNCHANGED\" atidlm:value=\"\"/></atidlm:resourcepair></atidlm:link>, <atidlm:link atidlm:branchLabel=\"_NOVERSION_\" atidlm:key=\"6611\" atidlm:name=\"prov 7\" atidlm:state=\"UNCHANGED\" atidlm:xmlId=\"DLM453604\" xmlns:atidlm=\"http://www.arbortext.com/namespace/atidlm\"><atidlm:linkcontent>(d)</atidlm:linkcontent><atidlm:resourcepair atidlm:isIncludeOrRef=\"1\" atidlm:markupType=\"extref\" atidlm:seqNum=\"6480\" atidlm:sourceLocator=\"file:///C:/epicuser/Doctypes/NZAct/fragxyxz_DLM25205.xml\" atidlm:sourceName=\"DLM453604\" atidlm:sourceXmlId=\"DLM453604\" atidlm:state=\"UNCHANGED\" atidlm:targetKey=\"826202\" atidlm:targetLocator=\"file:///C:/epicuser/Doctypes/NZAct/fragxyxz_DLM146530.xml\" atidlm:targetName=\"prov 7\" atidlm:targetXmlId=\"DLM146532\"><atidlm:metadata atidlm:locale=\"xx_XX\" atidlm:name=\"Name\" atidlm:state=\"UNCHANGED\" atidlm:value=\"prov\"/><atidlm:metadata atidlm:locale=\"xx_XX\" atidlm:name=\"Amend\" atidlm:state=\"UNCHANGED\" atidlm:value=\"false\"/><atidlm:metadata atidlm:locale=\"xx_XX\" atidlm:name=\"Element_Context\" atidlm:state=\"UNCHANGED\" atidlm:value=\"/act[1]/body[1]/prov[2]\"/><atidlm:metadata atidlm:locale=\"xx_XX\" atidlm:name=\"Element_Type\" atidlm:state=\"UNCHANGED\" atidlm:value=\"prov\"/><atidlm:metadata atidlm:locale=\"xx_XX\" atidlm:name=\"Heading\" atidlm:state=\"UNCHANGED\" atidlm:value=\"Scientific authorities\"/><atidlm:metadata atidlm:locale=\"xx_XX\" atidlm:name=\"Label\" atidlm:state=\"UNCHANGED\" atidlm:value=\"2\"/><atidlm:metadata atidlm:locale=\"xx_XX\" atidlm:name=\"Legislation_Id\" atidlm:state=\"UNCHANGED\" atidlm:value=\"DLM25205\"/><atidlm:metadata atidlm:locale=\"xx_XX\" atidlm:name=\"Legislation_Number\" atidlm:state=\"UNCHANGED\" atidlm:value=\"50\"/><atidlm:metadata atidlm:locale=\"xx_XX\" atidlm:name=\"Legislation_Title\" atidlm:state=\"UNCHANGED\" atidlm:value=\"Trade in Endangered Species Amendment Act 1999\"/><atidlm:metadata atidlm:locale=\"xx_XX\" atidlm:name=\"Legislation_Year\" atidlm:state=\"UNCHANGED\" atidlm:value=\"1999\"/><atidlm:metadata atidlm:locale=\"xx_XX\" atidlm:name=\"Revision_Number\" atidlm:state=\"UNCHANGED\" atidlm:value=\"\"/></atidlm:resourcepair></atidlm:link>, and <atidlm:link atidlm:branchLabel=\"_NOVERSION_\" atidlm:key=\"6612\" atidlm:name=\"prov 7\" atidlm:state=\"UNCHANGED\" atidlm:xmlId=\"DLM453605\" xmlns:atidlm=\"http://www.arbortext.com/namespace/atidlm\"><atidlm:linkcontent>(e)</atidlm:linkcontent><atidlm:resourcepair atidlm:isIncludeOrRef=\"1\" atidlm:markupType=\"extref\" atidlm:seqNum=\"6481\" atidlm:sourceLocator=\"file:///C:/epicuser/Doctypes/NZAct/fragxyxz_DLM25205.xml\" atidlm:sourceName=\"DLM453605\" atidlm:sourceXmlId=\"DLM453605\" atidlm:state=\"UNCHANGED\" atidlm:targetKey=\"826202\" atidlm:targetLocator=\"file:///C:/epicuser/Doctypes/NZAct/fragxyxz_DLM146530.xml\" atidlm:targetName=\"prov 7\" atidlm:targetXmlId=\"DLM146532\"><atidlm:metadata atidlm:locale=\"xx_XX\" atidlm:name=\"Name\" atidlm:state=\"UNCHANGED\" atidlm:value=\"prov\"/><atidlm:metadata atidlm:locale=\"xx_XX\" atidlm:name=\"Amend\" atidlm:state=\"UNCHANGED\" atidlm:value=\"false\"/><atidlm:metadata atidlm:locale=\"xx_XX\" atidlm:name=\"Element_Context\" atidlm:state=\"UNCHANGED\" atidlm:value=\"/act[1]/body[1]/prov[2]\"/><atidlm:metadata atidlm:locale=\"xx_XX\" atidlm:name=\"Element_Type\" atidlm:state=\"UNCHANGED\" atidlm:value=\"prov\"/><atidlm:metadata atidlm:locale=\"xx_XX\" atidlm:name=\"Heading\" atidlm:state=\"UNCHANGED\" atidlm:value=\"Scientific authorities\"/><atidlm:metadata atidlm:locale=\"xx_XX\" atidlm:name=\"Label\" atidlm:state=\"UNCHANGED\" atidlm:value=\"2\"/><atidlm:metadata atidlm:locale=\"xx_XX\" atidlm:name=\"Legislation_Id\" atidlm:state=\"UNCHANGED\" atidlm:value=\"DLM25205\"/><atidlm:metadata atidlm:locale=\"xx_XX\" atidlm:name=\"Legislation_Number\" atidlm:state=\"UNCHANGED\" atidlm:value=\"50\"/><atidlm:metadata atidlm:locale=\"xx_XX\" atidlm:name=\"Legislation_Title\" atidlm:state=\"UNCHANGED\" atidlm:value=\"Trade in Endangered Species Amendment Act 1999\"/><atidlm:metadata atidlm:locale=\"xx_XX\" atidlm:name=\"Legislation_Year\" atidlm:state=\"UNCHANGED\" atidlm:value=\"1999\"/><atidlm:metadata atidlm:locale=\"xx_XX\" atidlm:name=\"Revision_Number\" atidlm:state=\"UNCHANGED\" atidlm:value=\"\"/></atidlm:resourcepair></atidlm:link> of the principal Act</citation>.</text></para></subprov></prov.body></prov></body>"
      ]
     },
     "execution_count": 177,
     "metadata": {},
     "output_type": "execute_result"
    }
   ],
   "source": [
    "body = soup.find('body')\n",
    "body"
   ]
  },
  {
   "cell_type": "code",
   "execution_count": 178,
   "metadata": {},
   "outputs": [],
   "source": [
    "cfTags = body.find_all('cf')\n",
    "for cfTag in cfTags:\n",
    "    print(cfTag)\n",
    "    cfTag.decompose()"
   ]
  },
  {
   "cell_type": "code",
   "execution_count": 179,
   "metadata": {},
   "outputs": [],
   "source": [
    "notesTags = body.find_all('notes')\n",
    "for notesTag in notesTags:\n",
    "    print(notesTag)\n",
    "    notesTag.decompose()"
   ]
  },
  {
   "cell_type": "code",
   "execution_count": 180,
   "metadata": {},
   "outputs": [
    {
     "data": {
      "text/plain": [
       "[<label auto.number=\"no\" denominator=\"yes\">1</label>,\n",
       " <label auto.number=\"no\" denominator=\"no\"/>,\n",
       " <label auto.number=\"no\" denominator=\"yes\">2</label>,\n",
       " <label auto.number=\"no\" denominator=\"no\"/>]"
      ]
     },
     "execution_count": 180,
     "metadata": {},
     "output_type": "execute_result"
    }
   ],
   "source": [
    "labels = body.find_all('label')\n",
    "for label in labels:\n",
    "    text = label.contents\n",
    "    if len(text) > 0:\n",
    "        label.replace_with('\\n\\n' + text[0] + ' ')\n",
    "    else:\n",
    "        label.replace_with('\\n')\n",
    "labels"
   ]
  },
  {
   "cell_type": "code",
   "execution_count": 181,
   "metadata": {},
   "outputs": [],
   "source": [
    "#process rules for how to handle various tags\n",
    "defTerms = body.find_all('def-term')\n",
    "for defTerm in defTerms:\n",
    "    print(defTerm)\n",
    "    contents = defTerm.contents\n",
    "    if len(contents) > 0:\n",
    "        if isinstance(contents[0], element.Tag):\n",
    "            print(contents)\n",
    "            content = contents[0].extract()\n",
    "            newTag = soup.new_tag('text')\n",
    "            newTag.string = '\\n\\n'\n",
    "            defTerm.insert_before(newTag)\n",
    "            defTerm.insert_before(content)\n",
    "        if isinstance(contents[0], str):\n",
    "            defTerm.replace_with('*' + contents[0] + '*')"
   ]
  },
  {
   "cell_type": "code",
   "execution_count": 182,
   "metadata": {},
   "outputs": [
    {
     "data": {
      "text/plain": [
       "[]"
      ]
     },
     "execution_count": 182,
     "metadata": {},
     "output_type": "execute_result"
    }
   ],
   "source": [
    "defParas = body.find_all('def-para')\n",
    "for defPara in defParas:\n",
    "    print(defPara)\n",
    "    contents = defPara.contents\n",
    "    if len(contents) > 0:\n",
    "        content = contents[0].extract()\n",
    "        newTag = soup.new_tag('text')\n",
    "        newTag.string = '\\n\\n'\n",
    "        defPara.insert_before(newTag)\n",
    "        defPara.insert_before(content)\n",
    "defParas"
   ]
  },
  {
   "cell_type": "code",
   "execution_count": 183,
   "metadata": {},
   "outputs": [
    {
     "data": {
      "text/plain": [
       "[]"
      ]
     },
     "execution_count": 183,
     "metadata": {},
     "output_type": "execute_result"
    }
   ],
   "source": [
    "crossheads = body.find_all('crosshead')\n",
    "for crosshead in crossheads:\n",
    "    print(crosshead)\n",
    "    crosshead.replace_with('\\n\\n')\n",
    "    print(crosshead)\n",
    "crossheads"
   ]
  },
  {
   "cell_type": "code",
   "execution_count": 186,
   "metadata": {},
   "outputs": [
    {
     "data": {
      "text/plain": [
       "[]"
      ]
     },
     "execution_count": 186,
     "metadata": {},
     "output_type": "execute_result"
    }
   ],
   "source": [
    "eqnLines = body.find_all('eqn-line')\n",
    "for eqnLine in eqnLines:\n",
    "    print(eqnLine)\n",
    "    text = eqnLine.contents\n",
    "    if len(text) > 0:\n",
    "        eqnLine.replace_with('\\n\\n ' + text[0] + '\\n\\n')\n",
    "eqnLines"
   ]
  },
  {
   "cell_type": "code",
   "execution_count": 185,
   "metadata": {},
   "outputs": [
    {
     "data": {
      "text/plain": [
       "[]"
      ]
     },
     "execution_count": 185,
     "metadata": {},
     "output_type": "execute_result"
    }
   ],
   "source": [
    "variableDefs = body.find_all('variable-def')\n",
    "for variableDef in variableDefs:\n",
    "    print(variableDef)\n",
    "    contents = variableDef.contents\n",
    "    if len(contents) > 0:\n",
    "        if isinstance(contents[0], element.Tag):\n",
    "            content = contents[0].extract()\n",
    "            newTag = soup.new_tag('text')\n",
    "            newTag.string = '\\n\\n'\n",
    "            variableDef.insert_before(newTag)\n",
    "            variableDef.insert_before(content)\n",
    "        if isinstance(contents[0], str):\n",
    "            variableDef.replace_with('\\n\\n' + contents[0] + ' ')\n",
    "variableDefs"
   ]
  },
  {
   "cell_type": "code",
   "execution_count": 105,
   "metadata": {},
   "outputs": [],
   "source": [
    "bodyString = body.get_text()"
   ]
  },
  {
   "cell_type": "code",
   "execution_count": 187,
   "metadata": {},
   "outputs": [
    {
     "name": "stdout",
     "output_type": "stream",
     "text": [
      "\n",
      "\n",
      "1 Short Title and commencement\n",
      "\n",
      "1 This Act may be cited as the Child Support Amendment Act 1993, and shall be read together with and deemed part of the Child Support Act 1991 (hereinafter referred to as the principal Act).\n",
      "\n",
      "2 This Act shall be deemed to have come into force on the 18th day of December 1991.\n",
      "\n",
      "2 Custodian in receipt of social security benefit must apply for formula assessment\n",
      "This section substituted s 9(3) of the principal Act.\n",
      "\n",
      "3 Automatic applications for formula assessment i\n"
     ]
    }
   ],
   "source": [
    "print(bodyString[:500])"
   ]
  },
  {
   "cell_type": "code",
   "execution_count": null,
   "metadata": {},
   "outputs": [],
   "source": []
  },
  {
   "cell_type": "code",
   "execution_count": null,
   "metadata": {},
   "outputs": [],
   "source": []
  },
  {
   "cell_type": "code",
   "execution_count": null,
   "metadata": {},
   "outputs": [],
   "source": []
  },
  {
   "cell_type": "code",
   "execution_count": null,
   "metadata": {},
   "outputs": [],
   "source": []
  },
  {
   "cell_type": "code",
   "execution_count": null,
   "metadata": {},
   "outputs": [],
   "source": []
  },
  {
   "cell_type": "code",
   "execution_count": null,
   "metadata": {},
   "outputs": [],
   "source": []
  }
 ],
 "metadata": {
  "kernelspec": {
   "display_name": "Python 3",
   "language": "python",
   "name": "python3"
  },
  "language_info": {
   "codemirror_mode": {
    "name": "ipython",
    "version": 3
   },
   "file_extension": ".py",
   "mimetype": "text/x-python",
   "name": "python",
   "nbconvert_exporter": "python",
   "pygments_lexer": "ipython3",
   "version": "3.6.4"
  }
 },
 "nbformat": 4,
 "nbformat_minor": 2
}
